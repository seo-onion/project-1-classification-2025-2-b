{
  "nbformat": 4,
  "nbformat_minor": 0,
  "metadata": {
    "colab": {
      "provenance": [],
      "authorship_tag": "ABX9TyNSJi+Q6qFjB3LrX1LA1hp/",
      "include_colab_link": true
    },
    "kernelspec": {
      "name": "python3",
      "display_name": "Python 3"
    },
    "language_info": {
      "name": "python"
    }
  },
  "cells": [
    {
      "cell_type": "markdown",
      "metadata": {
        "id": "view-in-github",
        "colab_type": "text"
      },
      "source": [
        "<a href=\"https://colab.research.google.com/github/seo-onion/project-1-classification-2025-2-b/blob/master/project_1_classification_2025_2_b.ipynb\" target=\"_parent\"><img src=\"https://colab.research.google.com/assets/colab-badge.svg\" alt=\"Open In Colab\"/></a>"
      ]
    },
    {
      "cell_type": "code",
      "execution_count": null,
      "metadata": {
        "id": "OzBsED5CiQam"
      },
      "outputs": [],
      "source": [
        "import pandas as pd\n",
        "import numpy as np\n",
        "import matplotlib.pyplot as plt\n",
        "import seaborn as sns\n",
        "#import mne\n",
        "from scipy import signal, stats\n",
        "import h5py"
      ]
    },
    {
      "cell_type": "code",
      "source": [
        "import sklearn\n",
        "from sklearn.model_selection import train_test_split, cross_val_score, StratifiedKFold\n",
        "from sklearn.preprocessing import StandardScaler, LabelEncoder\n",
        "from sklearn.linear_model import LogisticRegression\n",
        "from sklearn.svm import SVC\n",
        "from sklearn.neighbors import KNeighborsClassifier\n",
        "from sklearn.tree import DecisionTreeClassifier\n",
        "from sklearn.ensemble import RandomForestClassifier\n",
        "from sklearn.metrics import classification_report, confusion_matrix, f1_score, accuracy_score"
      ],
      "metadata": {
        "id": "LxxzQ2bkxo5R"
      },
      "execution_count": null,
      "outputs": []
    },
    {
      "cell_type": "markdown",
      "source": [
        "Importar data"
      ],
      "metadata": {
        "id": "qUuRPng-xrKS"
      }
    },
    {
      "cell_type": "code",
      "source": [
        "from google.colab import drive\n",
        "drive.mount('/content/drive')\n",
        "\n",
        "#Ruta\n",
        "data_path = \"/content/drive/MyDrive/project-1-classification-2025-EEG.ipynb/data/raw\"\n",
        "\n",
        "#Cargando datos de sample_submission\n",
        "sample_submission = pd.read_csv(f\"{data_path}/sample_submission.csv\")\n",
        "\n",
        "# Cargar datos de entrenamiento train.h5\n",
        "with h5py.File(f'{data_path}/train.h5', 'r') as f:\n",
        "    print(\"Claves disponibles:\", list(f.keys()))\n",
        "\n",
        "# Cargar datos de prueba test.h5\n",
        "with h5py.File(f'{data_path}/test.h5', 'r') as f:\n",
        "    print(\"Claves disponibles:\", list(f.keys()))\n"
      ],
      "metadata": {
        "colab": {
          "base_uri": "https://localhost:8080/"
        },
        "id": "bkMT7JP8yEFl",
        "outputId": "fa33ad59-d0ef-4bcd-e68b-7f770a0e3700"
      },
      "execution_count": 29,
      "outputs": [
        {
          "output_type": "stream",
          "name": "stdout",
          "text": [
            "Drive already mounted at /content/drive; to attempt to forcibly remount, call drive.mount(\"/content/drive\", force_remount=True).\n",
            "Claves disponibles: ['x', 'y']\n",
            "Claves disponibles: ['x']\n"
          ]
        }
      ]
    }
  ]
}